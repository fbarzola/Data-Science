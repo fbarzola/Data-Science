{
 "cells": [
  {
   "cell_type": "markdown",
   "id": "cc0a63d0",
   "metadata": {},
   "source": [
    "# PROYECTO WEB SACRAPING\n"
   ]
  },
  {
   "cell_type": "markdown",
   "id": "0c70b059",
   "metadata": {},
   "source": [
    "El objetivo de este proyecto es realizar webscraping de las publicaciones de mercadolibre sobre un determinado modelo de productos \"enova\" para hacer una clasificacion segun los precios, modelo, spec. Luego de este analisis podremos visivilizar de forma rapida y eficiente los precios mas economicos que hay en el mercado comparado con los de la marca \"enova\"."
   ]
  },
  {
   "cell_type": "code",
   "execution_count": 1,
   "id": "efe25e5a",
   "metadata": {},
   "outputs": [],
   "source": [
    "import pandas as pd\n",
    "import numpy as np\n",
    "import requests\n",
    "from bs4 import BeautifulSoup\n",
    "from lxml import etree\n",
    "from datetime import date\n",
    "from datetime import datetime\n",
    "import seaborn as sns\n",
    "import matplotlib.pyplot as plt\n",
    "import re\n",
    "import tkinter as tk\n",
    "from tkinter import ttk\n",
    "from tkinter import simpledialog\n",
    "from matplotlib.backends.backend_tkagg import FigureCanvasTkAgg\n",
    "import os\n",
    "from tqdm import tqdm\n",
    "import threading\n",
    "from concurrent.futures import ThreadPoolExecutor"
   ]
  },
  {
   "cell_type": "code",
   "execution_count": 2,
   "id": "8817ca0d",
   "metadata": {},
   "outputs": [],
   "source": [
    "def obtener_url():\n",
    "    root = tk.Tk()\n",
    "    root.title(\"Ingreso de URL\")\n",
    "    \n",
    "    style = ttk.Style()\n",
    "    style.theme_use('clam')  \n",
    "\n",
    "    window_width = 400\n",
    "    window_height = 200\n",
    "    screen_width = root.winfo_screenwidth()\n",
    "    screen_height = root.winfo_screenheight()\n",
    "    position_top = int(screen_height / 2 - window_height / 2)\n",
    "    position_right = int(screen_width / 2 - window_width / 2)\n",
    "    root.geometry(f'{window_width}x{window_height}+{position_right}+{position_top}')\n",
    "    \n",
    "    \n",
    "    root.attributes('-topmost', 1)\n",
    "\n",
    "   \n",
    "    ttk.Label(root, text=\"Por favor, ingrese la URL que desea analizar:\").pack(pady=20)\n",
    "    url_entry = ttk.Entry(root, width=50)\n",
    "    url_entry.pack(pady=10)\n",
    "\n",
    "    def on_submit():\n",
    "        global url_input\n",
    "        url_input = url_entry.get()\n",
    "        root.destroy()\n",
    "\n",
    "    ttk.Button(root, text=\"Enviar\", command=on_submit).pack(pady=20)\n",
    "\n",
    "    root.mainloop()\n",
    "    return url_input\n",
    "\n",
    "\n",
    "  "
   ]
  },
  {
   "cell_type": "code",
   "execution_count": 3,
   "id": "9c90e560",
   "metadata": {},
   "outputs": [],
   "source": [
    "url_input = obtener_url()\n",
    "response = requests.get(url_input)\n"
   ]
  },
  {
   "cell_type": "code",
   "execution_count": 4,
   "id": "552e434e",
   "metadata": {},
   "outputs": [
    {
     "data": {
      "text/plain": [
       "b''"
      ]
     },
     "execution_count": 4,
     "metadata": {},
     "output_type": "execute_result"
    }
   ],
   "source": [
    "response.content"
   ]
  },
  {
   "cell_type": "code",
   "execution_count": 5,
   "id": "60accdb5",
   "metadata": {},
   "outputs": [
    {
     "name": "stdout",
     "output_type": "stream",
     "text": [
      "Error al obtener la página. Código de estado: 403\n"
     ]
    },
    {
     "data": {
      "text/plain": [
       "403"
      ]
     },
     "execution_count": 5,
     "metadata": {},
     "output_type": "execute_result"
    }
   ],
   "source": [
    "if response.status_code != 200:\n",
    "    print(\"Error al obtener la página. Código de estado:\", response.status_code)\n",
    "else:\n",
    "    soup = BeautifulSoup(response.content, 'html.parser')\n",
    "    \n",
    "response.status_code\n"
   ]
  },
  {
   "cell_type": "code",
   "execution_count": 6,
   "id": "4f2cc2d6",
   "metadata": {},
   "outputs": [
    {
     "ename": "NameError",
     "evalue": "name 'soup' is not defined",
     "output_type": "error",
     "traceback": [
      "\u001b[1;31m---------------------------------------------------------------------------\u001b[0m",
      "\u001b[1;31mNameError\u001b[0m                                 Traceback (most recent call last)",
      "Input \u001b[1;32mIn [6]\u001b[0m, in \u001b[0;36m<cell line: 1>\u001b[1;34m()\u001b[0m\n\u001b[1;32m----> 1\u001b[0m titulos \u001b[38;5;241m=\u001b[39m \u001b[43msoup\u001b[49m\u001b[38;5;241m.\u001b[39mfind_all(\u001b[38;5;124m'\u001b[39m\u001b[38;5;124mh2\u001b[39m\u001b[38;5;124m'\u001b[39m, class_\u001b[38;5;241m=\u001b[39m\u001b[38;5;124m'\u001b[39m\u001b[38;5;124mui-search-item__title\u001b[39m\u001b[38;5;124m'\u001b[39m)\n\u001b[0;32m      2\u001b[0m titulos[\u001b[38;5;241m0\u001b[39m]\u001b[38;5;241m.\u001b[39mtext\n",
      "\u001b[1;31mNameError\u001b[0m: name 'soup' is not defined"
     ]
    }
   ],
   "source": [
    "titulos = soup.find_all('h2', class_='ui-search-item__title')\n",
    "titulos[0].text\n"
   ]
  },
  {
   "cell_type": "code",
   "execution_count": null,
   "id": "efd31444",
   "metadata": {},
   "outputs": [],
   "source": [
    "for i in titulos:\n",
    "    \n",
    "    print(i.text)"
   ]
  },
  {
   "cell_type": "code",
   "execution_count": null,
   "id": "39d5794d",
   "metadata": {},
   "outputs": [],
   "source": [
    "titulos = [i.text for i in titulos]\n",
    "titulos"
   ]
  },
  {
   "cell_type": "code",
   "execution_count": null,
   "id": "647f07c6",
   "metadata": {},
   "outputs": [],
   "source": [
    "len(titulos)"
   ]
  },
  {
   "cell_type": "code",
   "execution_count": null,
   "id": "3360c471",
   "metadata": {},
   "outputs": [],
   "source": [
    "urls = soup.find_all('a', class_='ui-search-item__group__element ui-search-link__title-card ui-search-link')"
   ]
  },
  {
   "cell_type": "code",
   "execution_count": null,
   "id": "3011011c",
   "metadata": {},
   "outputs": [],
   "source": [
    "urls[0].get('href')"
   ]
  },
  {
   "cell_type": "code",
   "execution_count": null,
   "id": "2e20916c",
   "metadata": {},
   "outputs": [],
   "source": [
    "urls = [i.get('href') for i in urls]\n",
    "urls"
   ]
  },
  {
   "cell_type": "code",
   "execution_count": null,
   "id": "6b75a2c1",
   "metadata": {},
   "outputs": [],
   "source": [
    "print(len(titulos))\n",
    "len(urls)\n"
   ]
  },
  {
   "cell_type": "code",
   "execution_count": null,
   "id": "6ee624ef",
   "metadata": {},
   "outputs": [],
   "source": [
    "df = pd.DataFrame({'Titulos':titulos, 'URL':urls})\n",
    "df['Fecha'] = date.today()\n",
    "df"
   ]
  },
  {
   "cell_type": "code",
   "execution_count": null,
   "id": "9c3c77e9",
   "metadata": {},
   "outputs": [],
   "source": [
    "precio = soup.find_all('span', class_='andes-money-amount ui-search-price__part ui-search-price__part--medium andes-money-amount--cents-superscript')\n",
    "precio"
   ]
  },
  {
   "cell_type": "code",
   "execution_count": null,
   "id": "07304c2a",
   "metadata": {},
   "outputs": [],
   "source": [
    "precio = [p.text for p in precio]\n",
    "precio"
   ]
  },
  {
   "cell_type": "code",
   "execution_count": null,
   "id": "fe650ea7",
   "metadata": {},
   "outputs": [],
   "source": [
    "len(precio)"
   ]
  },
  {
   "cell_type": "code",
   "execution_count": null,
   "id": "dd0046f5",
   "metadata": {},
   "outputs": [],
   "source": [
    "df = pd.DataFrame({'Titulos':titulos, 'URL':urls, 'Precio':precio })\n",
    "df['Fecha'] = date.today()\n",
    "df"
   ]
  },
  {
   "cell_type": "code",
   "execution_count": null,
   "id": "b777047b",
   "metadata": {},
   "outputs": [],
   "source": [
    "def limpiar_precio(precio):\n",
    "    \n",
    "    if 'US$' in precio:\n",
    "        \n",
    "        precio_limpio = re.sub(r'[^\\d,]', '', precio.replace('US$', ''))\n",
    "        precio_limpio = precio_limpio.replace(',', '')\n",
    "        return f\"${float(precio_limpio) * 1300:,.0f}\"\n",
    "    else:\n",
    "        \n",
    "        precio_limpio = re.sub(r'[^\\d,]', '', precio)\n",
    "        precio_limpio = precio_limpio.replace(',', '')\n",
    "        return f\"${float(precio_limpio):,.0f}\"\n",
    "\n",
    "\n",
    "df['Precio'] = df['Precio'].apply(limpiar_precio)\n",
    "df['Precio']"
   ]
  },
  {
   "cell_type": "code",
   "execution_count": null,
   "id": "6881e9db",
   "metadata": {},
   "outputs": [],
   "source": [
    "def extraer_stock_disponible(url):\n",
    "    try:\n",
    "        response = requests.get(url)\n",
    "        if response.status_code == 200:\n",
    "            soup = BeautifulSoup(response.content, 'html.parser')\n",
    "            stock_info = soup.find('span', class_='ui-pdp-buybox__quantity__available')\n",
    "            if stock_info:\n",
    "                stock_text = stock_info.get_text()\n",
    "                stock_number = re.search(r'\\d+', stock_text)\n",
    "                if stock_number:\n",
    "                    return int(stock_number.group())\n",
    "    except requests.RequestException as e:\n",
    "        print(f\"Error al acceder a {url}: {e}\")\n",
    "    return 0  \n",
    "\n",
    "def realizar_extraccion(df):\n",
    "\n",
    "    with ThreadPoolExecutor(max_workers=10) as executor:\n",
    "        stocks = list(executor.map(extraer_stock_disponible, df['URL']))\n",
    "\n",
    "    df['Stock Disponible'] = stocks\n",
    "    df['Stock Disponible'] = df['Stock Disponible'].apply(lambda x: 'Última Disponible' if x == 0 else x)\n",
    "    \n",
    "    return df\n",
    "\n",
    "df = realizar_extraccion(df)\n",
    "print(df)\n"
   ]
  },
  {
   "cell_type": "code",
   "execution_count": null,
   "id": "7fd0b6b9",
   "metadata": {},
   "outputs": [],
   "source": [
    "def precio_numerico(precio):\n",
    "    precio_limpio = re.sub(r'[^\\d]', '', precio)\n",
    "    return float(precio_limpio)\n",
    "\n",
    "df['precio_numerico'] = df['Precio'].apply(precio_numerico)\n",
    "\n",
    "df_sorted = df.sort_values(by='precio_numerico', ascending=True)\n",
    "\n",
    "df_sorted.columns = [str(col).strip() for col in df_sorted.columns]\n",
    "\n",
    "df_sorted"
   ]
  },
  {
   "cell_type": "code",
   "execution_count": null,
   "id": "31029e56",
   "metadata": {},
   "outputs": [],
   "source": [
    "def graficar_precios():\n",
    "    producto_enova = df_sorted[df_sorted['Titulos'].str.contains('Enova', case=False, na=False)]\n",
    "    \n",
    "    if not producto_enova.empty:\n",
    "        precio_enova = producto_enova.iloc[0]['precio_numerico']\n",
    "        productos_mas_baratos = df_sorted[df_sorted['precio_numerico'] < precio_enova]\n",
    "\n",
    "        fig, ax = plt.subplots(figsize=(10, 9))\n",
    "        sns.barplot(x=productos_mas_baratos['Titulos'], y=productos_mas_baratos['precio_numerico'], palette='viridis', ax=ax)\n",
    "        ax.set_xlabel('Productos')\n",
    "        ax.set_ylabel('Precio (en pesos)')\n",
    "        ax.set_title('Precios más baratos que el producto \"Enova\"')\n",
    "        ax.set_xticklabels(ax.get_xticklabels(), rotation=90)\n",
    "        plt.tight_layout()\n",
    "        \n",
    "        grafico_ventana = tk.Toplevel()\n",
    "        grafico_ventana.title(\"Gráfico de precios\")\n",
    "       \n",
    "        canvas = FigureCanvasTkAgg(fig, master=grafico_ventana)\n",
    "        canvas.draw()\n",
    "        canvas.get_tk_widget().pack(side=tk.TOP, fill=tk.BOTH, expand=1)\n",
    "        \n",
    "        button = tk.Button(master=grafico_ventana, text=\"Cerrar\", command=grafico_ventana.destroy)\n",
    "        button.pack(side=tk.BOTTOM)\n",
    "\n",
    "        grafico_ventana.mainloop()\n",
    "    else:\n",
    "        print(\"No se encontró ningún producto con 'Enova' en el título.\")\n",
    "\n",
    "def mostrar_dataframe(df_sorted):\n",
    "  \n",
    "    ventana_secundaria = tk.Toplevel()\n",
    "    ventana_secundaria.title(\"Listado de Productos Ordenados por precio\")\n",
    "    \n",
    "    frame = tk.Frame(ventana_secundaria)\n",
    "    frame.pack(fill=tk.BOTH, expand=1)\n",
    "\n",
    "   \n",
    "    columns = [str(col) for col in df_sorted.columns]\n",
    "    tree = ttk.Treeview(frame, columns=columns, show='headings')\n",
    "    tree.pack(side=tk.LEFT, fill=tk.BOTH, expand=1)\n",
    "\n",
    "    \n",
    "    for col in columns:\n",
    "        tree.heading(col, text=col)\n",
    "        tree.column(col, anchor='center')\n",
    "    \n",
    "    for index, row in df_sorted.iterrows():\n",
    "        tags = ('enova',) if 'Enova' in row['Titulos'] else ('normal',)\n",
    "        tree.insert(\"\", tk.END, values=list(row), tags=tags)\n",
    "  \n",
    "    scrollbar = ttk.Scrollbar(frame, orient=tk.VERTICAL, command=tree.yview)\n",
    "    tree.configure(yscroll=scrollbar.set)\n",
    "    scrollbar.pack(side=tk.RIGHT, fill=tk.Y)\n",
    "    \n",
    "    tree.tag_configure('enova', background='lightgreen')\n",
    "    tree.tag_configure('normal', background='white')\n",
    "\n",
    "    siguiente_button = tk.Button(ventana_secundaria, text=\"Graficar\", command=graficar_precios)\n",
    "    siguiente_button.pack(pady=10)\n",
    "\n",
    "\n",
    "root = tk.Tk()\n",
    "root.withdraw() \n",
    "\n",
    "def obtener_nombre_archivo_consecutivo(base_name, extension):\n",
    "    \n",
    "    files = os.listdir('.')\n",
    "    \n",
    "    pattern = re.compile(rf'{re.escape(base_name)}(\\d*)\\.{re.escape(extension)}')\n",
    "    matching_files = [f for f in files if pattern.match(f)]\n",
    "    \n",
    "    numbers = []\n",
    "    for file in matching_files:\n",
    "        match = pattern.match(file)\n",
    "        if match.group(1):\n",
    "            numbers.append(int(match.group(1)))\n",
    "        else:\n",
    "            numbers.append(0)\n",
    "    \n",
    "    if numbers:\n",
    "        next_number = max(numbers) + 1\n",
    "    else:\n",
    "        next_number = 1\n",
    "    \n",
    "    new_filename = f\"{base_name}{next_number}.{extension}\"\n",
    "    return new_filename\n",
    "\n",
    "\n",
    "base_name = 'productos_ordenados'\n",
    "extension = 'csv'\n",
    "csv_filename = obtener_nombre_archivo_consecutivo(base_name, extension)\n",
    "df_sorted.to_csv(csv_filename, index=False)\n",
    "print(f\"DataFrame guardado en {csv_filename}\")\n",
    "os.startfile(csv_filename)\n",
    "\n",
    "mostrar_dataframe(df_sorted)\n",
    "\n",
    "root.mainloop()\n"
   ]
  }
 ],
 "metadata": {
  "kernelspec": {
   "display_name": "Python 3 (ipykernel)",
   "language": "python",
   "name": "python3"
  },
  "language_info": {
   "codemirror_mode": {
    "name": "ipython",
    "version": 3
   },
   "file_extension": ".py",
   "mimetype": "text/x-python",
   "name": "python",
   "nbconvert_exporter": "python",
   "pygments_lexer": "ipython3",
   "version": "3.9.12"
  }
 },
 "nbformat": 4,
 "nbformat_minor": 5
}
