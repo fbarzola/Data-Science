{
 "cells": [
  {
   "cell_type": "code",
   "execution_count": 1,
   "id": "718f5b4a",
   "metadata": {},
   "outputs": [],
   "source": [
    "import pandas as pd\n",
    "import numpy as np\n",
    "\n",
    "import matplotlib.pyplot as plt\n",
    "import seaborn as sns\n",
    "import numpy as np\n",
    "from sklearn.model_selection import train_test_split\n"
   ]
  },
  {
   "cell_type": "markdown",
   "id": "1b119541",
   "metadata": {},
   "source": [
    "\n",
    "# Bitcoin prediction"
   ]
  },
  {
   "cell_type": "code",
   "execution_count": 2,
   "id": "e52edadc",
   "metadata": {},
   "outputs": [],
   "source": [
    "# Toda informacion contenida en la variable databtc es de suma importancia ya que de ella podremos obtener toda la informacion\n",
    "# necesaria para poder predecir el valor de Bitcoin. Timestamp / Open / High / Low / Close / Volume_(BTC) / Volume_(Currency) / Weighted_Price\n",
    "\n",
    "databtc = pd.read_csv('bitstampUSD_1-min_data_2012-01-01_to_2021-03-31.csv')"
   ]
  },
  {
   "cell_type": "code",
   "execution_count": 3,
   "id": "df41cb52",
   "metadata": {},
   "outputs": [
    {
     "data": {
      "text/html": [
       "<div>\n",
       "<style scoped>\n",
       "    .dataframe tbody tr th:only-of-type {\n",
       "        vertical-align: middle;\n",
       "    }\n",
       "\n",
       "    .dataframe tbody tr th {\n",
       "        vertical-align: top;\n",
       "    }\n",
       "\n",
       "    .dataframe thead th {\n",
       "        text-align: right;\n",
       "    }\n",
       "</style>\n",
       "<table border=\"1\" class=\"dataframe\">\n",
       "  <thead>\n",
       "    <tr style=\"text-align: right;\">\n",
       "      <th></th>\n",
       "      <th>Timestamp</th>\n",
       "      <th>Open</th>\n",
       "      <th>High</th>\n",
       "      <th>Low</th>\n",
       "      <th>Close</th>\n",
       "      <th>Volume_(BTC)</th>\n",
       "      <th>Volume_(Currency)</th>\n",
       "      <th>Weighted_Price</th>\n",
       "    </tr>\n",
       "  </thead>\n",
       "  <tbody>\n",
       "    <tr>\n",
       "      <th>0</th>\n",
       "      <td>1325317920</td>\n",
       "      <td>4.39</td>\n",
       "      <td>4.39</td>\n",
       "      <td>4.39</td>\n",
       "      <td>4.39</td>\n",
       "      <td>0.455581</td>\n",
       "      <td>2.000000</td>\n",
       "      <td>4.390000</td>\n",
       "    </tr>\n",
       "    <tr>\n",
       "      <th>1</th>\n",
       "      <td>1325317980</td>\n",
       "      <td>NaN</td>\n",
       "      <td>NaN</td>\n",
       "      <td>NaN</td>\n",
       "      <td>NaN</td>\n",
       "      <td>NaN</td>\n",
       "      <td>NaN</td>\n",
       "      <td>NaN</td>\n",
       "    </tr>\n",
       "    <tr>\n",
       "      <th>2</th>\n",
       "      <td>1325318040</td>\n",
       "      <td>NaN</td>\n",
       "      <td>NaN</td>\n",
       "      <td>NaN</td>\n",
       "      <td>NaN</td>\n",
       "      <td>NaN</td>\n",
       "      <td>NaN</td>\n",
       "      <td>NaN</td>\n",
       "    </tr>\n",
       "    <tr>\n",
       "      <th>3</th>\n",
       "      <td>1325318100</td>\n",
       "      <td>NaN</td>\n",
       "      <td>NaN</td>\n",
       "      <td>NaN</td>\n",
       "      <td>NaN</td>\n",
       "      <td>NaN</td>\n",
       "      <td>NaN</td>\n",
       "      <td>NaN</td>\n",
       "    </tr>\n",
       "    <tr>\n",
       "      <th>4</th>\n",
       "      <td>1325318160</td>\n",
       "      <td>NaN</td>\n",
       "      <td>NaN</td>\n",
       "      <td>NaN</td>\n",
       "      <td>NaN</td>\n",
       "      <td>NaN</td>\n",
       "      <td>NaN</td>\n",
       "      <td>NaN</td>\n",
       "    </tr>\n",
       "    <tr>\n",
       "      <th>...</th>\n",
       "      <td>...</td>\n",
       "      <td>...</td>\n",
       "      <td>...</td>\n",
       "      <td>...</td>\n",
       "      <td>...</td>\n",
       "      <td>...</td>\n",
       "      <td>...</td>\n",
       "      <td>...</td>\n",
       "    </tr>\n",
       "    <tr>\n",
       "      <th>1870936</th>\n",
       "      <td>1437962400</td>\n",
       "      <td>293.73</td>\n",
       "      <td>293.73</td>\n",
       "      <td>293.73</td>\n",
       "      <td>293.73</td>\n",
       "      <td>4.067700</td>\n",
       "      <td>1194.805521</td>\n",
       "      <td>293.730000</td>\n",
       "    </tr>\n",
       "    <tr>\n",
       "      <th>1870937</th>\n",
       "      <td>1437962460</td>\n",
       "      <td>293.73</td>\n",
       "      <td>293.76</td>\n",
       "      <td>293.73</td>\n",
       "      <td>293.76</td>\n",
       "      <td>4.329772</td>\n",
       "      <td>1271.909178</td>\n",
       "      <td>293.758904</td>\n",
       "    </tr>\n",
       "    <tr>\n",
       "      <th>1870938</th>\n",
       "      <td>1437962520</td>\n",
       "      <td>293.75</td>\n",
       "      <td>293.75</td>\n",
       "      <td>293.70</td>\n",
       "      <td>293.70</td>\n",
       "      <td>45.682187</td>\n",
       "      <td>13418.248303</td>\n",
       "      <td>293.730428</td>\n",
       "    </tr>\n",
       "    <tr>\n",
       "      <th>1870939</th>\n",
       "      <td>1437962580</td>\n",
       "      <td>NaN</td>\n",
       "      <td>NaN</td>\n",
       "      <td>NaN</td>\n",
       "      <td>NaN</td>\n",
       "      <td>NaN</td>\n",
       "      <td>NaN</td>\n",
       "      <td>NaN</td>\n",
       "    </tr>\n",
       "    <tr>\n",
       "      <th>1870940</th>\n",
       "      <td>14379626</td>\n",
       "      <td>NaN</td>\n",
       "      <td>NaN</td>\n",
       "      <td>NaN</td>\n",
       "      <td>NaN</td>\n",
       "      <td>NaN</td>\n",
       "      <td>NaN</td>\n",
       "      <td>NaN</td>\n",
       "    </tr>\n",
       "  </tbody>\n",
       "</table>\n",
       "<p>1870941 rows × 8 columns</p>\n",
       "</div>"
      ],
      "text/plain": [
       "          Timestamp    Open    High     Low   Close  Volume_(BTC)  \\\n",
       "0        1325317920    4.39    4.39    4.39    4.39      0.455581   \n",
       "1        1325317980     NaN     NaN     NaN     NaN           NaN   \n",
       "2        1325318040     NaN     NaN     NaN     NaN           NaN   \n",
       "3        1325318100     NaN     NaN     NaN     NaN           NaN   \n",
       "4        1325318160     NaN     NaN     NaN     NaN           NaN   \n",
       "...             ...     ...     ...     ...     ...           ...   \n",
       "1870936  1437962400  293.73  293.73  293.73  293.73      4.067700   \n",
       "1870937  1437962460  293.73  293.76  293.73  293.76      4.329772   \n",
       "1870938  1437962520  293.75  293.75  293.70  293.70     45.682187   \n",
       "1870939  1437962580     NaN     NaN     NaN     NaN           NaN   \n",
       "1870940    14379626     NaN     NaN     NaN     NaN           NaN   \n",
       "\n",
       "         Volume_(Currency)  Weighted_Price  \n",
       "0                 2.000000        4.390000  \n",
       "1                      NaN             NaN  \n",
       "2                      NaN             NaN  \n",
       "3                      NaN             NaN  \n",
       "4                      NaN             NaN  \n",
       "...                    ...             ...  \n",
       "1870936        1194.805521      293.730000  \n",
       "1870937        1271.909178      293.758904  \n",
       "1870938       13418.248303      293.730428  \n",
       "1870939                NaN             NaN  \n",
       "1870940                NaN             NaN  \n",
       "\n",
       "[1870941 rows x 8 columns]"
      ]
     },
     "execution_count": 3,
     "metadata": {},
     "output_type": "execute_result"
    }
   ],
   "source": [
    "databtc.head\n",
    "databtc"
   ]
  },
  {
   "cell_type": "code",
   "execution_count": 4,
   "id": "b50f5d29",
   "metadata": {
    "scrolled": true
   },
   "outputs": [
    {
     "data": {
      "image/png": "[encoded data removed]",
      "text/plain": [
       "<Figure size 1800x1440 with 9 Axes>"
      ]
     },
     "metadata": {
      "needs_background": "light"
     },
     "output_type": "display_data"
    }
   ],
   "source": [
    "databtc.hist(bins=20, legend=False, figsize=(25, 20))\n",
    "plt.show()"
   ]
  },
  {
   "cell_type": "markdown",
   "id": "2b2a5980",
   "metadata": {},
   "source": [
    "# Fifa (Videojuego)"
   ]
  },
  {
   "cell_type": "code",
   "execution_count": 17,
   "id": "b4c91a8f",
   "metadata": {},
   "outputs": [
    {
     "name": "stderr",
     "output_type": "stream",
     "text": [
      "C:\\Users\\a229355\\AppData\\Local\\Temp\\ipykernel_20204\\2437780372.py:1: DtypeWarning: Columns (78) have mixed types. Specify dtype option on import or set low_memory=False.\n",
      "  fifa = pd.read_csv('fifa21_stats.csv')\n"
     ]
    },
    {
     "data": {
      "text/html": [
       "<div>\n",
       "<style scoped>\n",
       "    .dataframe tbody tr th:only-of-type {\n",
       "        vertical-align: middle;\n",
       "    }\n",
       "\n",
       "    .dataframe tbody tr th {\n",
       "        vertical-align: top;\n",
       "    }\n",
       "\n",
       "    .dataframe thead th {\n",
       "        text-align: right;\n",
       "    }\n",
       "</style>\n",
       "<table border=\"1\" class=\"dataframe\">\n",
       "  <thead>\n",
       "    <tr style=\"text-align: right;\">\n",
       "      <th></th>\n",
       "      <th>ID</th>\n",
       "      <th>Name</th>\n",
       "      <th>Age</th>\n",
       "      <th>OVA</th>\n",
       "      <th>Nationality</th>\n",
       "      <th>Club</th>\n",
       "      <th>BOV</th>\n",
       "      <th>BP</th>\n",
       "      <th>Position</th>\n",
       "      <th>Player Photo</th>\n",
       "      <th>...</th>\n",
       "      <th>CDM</th>\n",
       "      <th>RDM</th>\n",
       "      <th>RWB</th>\n",
       "      <th>LB</th>\n",
       "      <th>LCB</th>\n",
       "      <th>CB</th>\n",
       "      <th>RCB</th>\n",
       "      <th>RB</th>\n",
       "      <th>GK</th>\n",
       "      <th>Gender</th>\n",
       "    </tr>\n",
       "  </thead>\n",
       "  <tbody>\n",
       "    <tr>\n",
       "      <th>0</th>\n",
       "      <td>2</td>\n",
       "      <td>G. Pasquale</td>\n",
       "      <td>33</td>\n",
       "      <td>69</td>\n",
       "      <td>Italy</td>\n",
       "      <td>Udinese</td>\n",
       "      <td>71</td>\n",
       "      <td>LWB</td>\n",
       "      <td>LM</td>\n",
       "      <td>https://cdn.sofifa.com/players/000/002/16_120.png</td>\n",
       "      <td>...</td>\n",
       "      <td>70+-1</td>\n",
       "      <td>70+-1</td>\n",
       "      <td>71+-2</td>\n",
       "      <td>70+-1</td>\n",
       "      <td>69+0</td>\n",
       "      <td>69+0</td>\n",
       "      <td>69+0</td>\n",
       "      <td>70+-1</td>\n",
       "      <td>17+0</td>\n",
       "      <td>Male</td>\n",
       "    </tr>\n",
       "    <tr>\n",
       "      <th>1</th>\n",
       "      <td>16</td>\n",
       "      <td>Luis García</td>\n",
       "      <td>37</td>\n",
       "      <td>71</td>\n",
       "      <td>Spain</td>\n",
       "      <td>KAS Eupen</td>\n",
       "      <td>70</td>\n",
       "      <td>CM</td>\n",
       "      <td>CM CAM CDM</td>\n",
       "      <td>https://cdn.sofifa.com/players/000/016/19_120.png</td>\n",
       "      <td>...</td>\n",
       "      <td>66+1</td>\n",
       "      <td>66+1</td>\n",
       "      <td>62+1</td>\n",
       "      <td>60+1</td>\n",
       "      <td>60+1</td>\n",
       "      <td>60+1</td>\n",
       "      <td>60+1</td>\n",
       "      <td>60+1</td>\n",
       "      <td>17+1</td>\n",
       "      <td>Male</td>\n",
       "    </tr>\n",
       "    <tr>\n",
       "      <th>2</th>\n",
       "      <td>27</td>\n",
       "      <td>J. Cole</td>\n",
       "      <td>33</td>\n",
       "      <td>71</td>\n",
       "      <td>England</td>\n",
       "      <td>Coventry City</td>\n",
       "      <td>71</td>\n",
       "      <td>CAM</td>\n",
       "      <td>CAM RM RW LM</td>\n",
       "      <td>https://cdn.sofifa.com/players/000/027/16_120.png</td>\n",
       "      <td>...</td>\n",
       "      <td>54+0</td>\n",
       "      <td>54+0</td>\n",
       "      <td>52+0</td>\n",
       "      <td>47+0</td>\n",
       "      <td>46+0</td>\n",
       "      <td>46+0</td>\n",
       "      <td>46+0</td>\n",
       "      <td>47+0</td>\n",
       "      <td>15+0</td>\n",
       "      <td>Male</td>\n",
       "    </tr>\n",
       "    <tr>\n",
       "      <th>3</th>\n",
       "      <td>36</td>\n",
       "      <td>D. Yorke</td>\n",
       "      <td>36</td>\n",
       "      <td>68</td>\n",
       "      <td>Trinidad &amp;amp; Tobago</td>\n",
       "      <td>Sunderland</td>\n",
       "      <td>70</td>\n",
       "      <td>ST</td>\n",
       "      <td>NaN</td>\n",
       "      <td>https://cdn.sofifa.com/players/000/036/09_120.png</td>\n",
       "      <td>...</td>\n",
       "      <td>65+0</td>\n",
       "      <td>65+0</td>\n",
       "      <td>56+0</td>\n",
       "      <td>57+0</td>\n",
       "      <td>51+0</td>\n",
       "      <td>51+0</td>\n",
       "      <td>51+0</td>\n",
       "      <td>57+0</td>\n",
       "      <td>22+0</td>\n",
       "      <td>Male</td>\n",
       "    </tr>\n",
       "    <tr>\n",
       "      <th>4</th>\n",
       "      <td>41</td>\n",
       "      <td>Iniesta</td>\n",
       "      <td>36</td>\n",
       "      <td>81</td>\n",
       "      <td>Spain</td>\n",
       "      <td>Vissel Kobe</td>\n",
       "      <td>82</td>\n",
       "      <td>CAM</td>\n",
       "      <td>CM CAM</td>\n",
       "      <td>https://cdn.sofifa.com/players/000/041/20_120.png</td>\n",
       "      <td>...</td>\n",
       "      <td>73+3</td>\n",
       "      <td>73+3</td>\n",
       "      <td>70+3</td>\n",
       "      <td>67+3</td>\n",
       "      <td>64+3</td>\n",
       "      <td>64+3</td>\n",
       "      <td>64+3</td>\n",
       "      <td>67+3</td>\n",
       "      <td>17+3</td>\n",
       "      <td>Male</td>\n",
       "    </tr>\n",
       "  </tbody>\n",
       "</table>\n",
       "<p>5 rows × 107 columns</p>\n",
       "</div>"
      ],
      "text/plain": [
       "   ID         Name  Age  OVA            Nationality           Club  BOV   BP  \\\n",
       "0   2  G. Pasquale   33   69                  Italy        Udinese   71  LWB   \n",
       "1  16  Luis García   37   71                  Spain      KAS Eupen   70   CM   \n",
       "2  27      J. Cole   33   71                England  Coventry City   71  CAM   \n",
       "3  36     D. Yorke   36   68  Trinidad &amp; Tobago     Sunderland   70   ST   \n",
       "4  41      Iniesta   36   81                  Spain    Vissel Kobe   82  CAM   \n",
       "\n",
       "       Position                                       Player Photo  ...  \\\n",
       "0            LM  https://cdn.sofifa.com/players/000/002/16_120.png  ...   \n",
       "1    CM CAM CDM  https://cdn.sofifa.com/players/000/016/19_120.png  ...   \n",
       "2  CAM RM RW LM  https://cdn.sofifa.com/players/000/027/16_120.png  ...   \n",
       "3           NaN  https://cdn.sofifa.com/players/000/036/09_120.png  ...   \n",
       "4        CM CAM  https://cdn.sofifa.com/players/000/041/20_120.png  ...   \n",
       "\n",
       "     CDM    RDM    RWB     LB   LCB    CB   RCB     RB    GK Gender  \n",
       "0  70+-1  70+-1  71+-2  70+-1  69+0  69+0  69+0  70+-1  17+0   Male  \n",
       "1   66+1   66+1   62+1   60+1  60+1  60+1  60+1   60+1  17+1   Male  \n",
       "2   54+0   54+0   52+0   47+0  46+0  46+0  46+0   47+0  15+0   Male  \n",
       "3   65+0   65+0   56+0   57+0  51+0  51+0  51+0   57+0  22+0   Male  \n",
       "4   73+3   73+3   70+3   67+3  64+3  64+3  64+3   67+3  17+3   Male  \n",
       "\n",
       "[5 rows x 107 columns]"
      ]
     },
     "execution_count": 17,
     "metadata": {},
     "output_type": "execute_result"
    }
   ],
   "source": [
    "fifa = pd.read_csv('fifa21_stats.csv')\n",
    "fifa.head()"
   ]
  },
  {
   "cell_type": "code",
   "execution_count": 6,
   "id": "697c6691",
   "metadata": {},
   "outputs": [
    {
     "data": {
      "text/plain": [
       "(17125, 107)"
      ]
     },
     "execution_count": 6,
     "metadata": {},
     "output_type": "execute_result"
    }
   ],
   "source": [
    "fifa.shape"
   ]
  },
  {
   "cell_type": "code",
   "execution_count": 7,
   "id": "b0183968",
   "metadata": {},
   "outputs": [],
   "source": [
    "# Todas las variables sonde suma importancia ya que con ellas se pueden sacar muchas conclusiones como jugadores con parecidos\n",
    "# a otros ya sea para reemplazo o compra o llegar a la conclusion que los delanteros con tal atributos son los que mas goles\n",
    "# convierten."
   ]
  },
  {
   "cell_type": "code",
   "execution_count": 8,
   "id": "f07de65a",
   "metadata": {},
   "outputs": [
    {
     "ename": "SyntaxError",
     "evalue": "invalid syntax (3562971671.py, line 2)",
     "output_type": "error",
     "traceback": [
      "\u001b[1;36m  Input \u001b[1;32mIn [8]\u001b[1;36m\u001b[0m\n\u001b[1;33m    `Analisis de películas en la plataforma Netflix`\u001b[0m\n\u001b[1;37m    ^\u001b[0m\n\u001b[1;31mSyntaxError\u001b[0m\u001b[1;31m:\u001b[0m invalid syntax\n"
     ]
    }
   ],
   "source": [
    "## PRIMERA ENTREGA - CODER HOUSE \n",
    "`Analisis de películas en la plataforma Netflix`\n",
    "- **link a kaggle:** https://www.kaggle.com/datasets/fanbyprinciple/tv-series-and-movies-on-netflix?resource=download"
   ]
  },
  {
   "cell_type": "code",
   "execution_count": 9,
   "id": "ff6c4ea7",
   "metadata": {},
   "outputs": [
    {
     "data": {
      "text/html": [
       "<div>\n",
       "<style scoped>\n",
       "    .dataframe tbody tr th:only-of-type {\n",
       "        vertical-align: middle;\n",
       "    }\n",
       "\n",
       "    .dataframe tbody tr th {\n",
       "        vertical-align: top;\n",
       "    }\n",
       "\n",
       "    .dataframe thead th {\n",
       "        text-align: right;\n",
       "    }\n",
       "</style>\n",
       "<table border=\"1\" class=\"dataframe\">\n",
       "  <thead>\n",
       "    <tr style=\"text-align: right;\">\n",
       "      <th></th>\n",
       "      <th>Unnamed: 0</th>\n",
       "      <th>show_id</th>\n",
       "      <th>type</th>\n",
       "      <th>title</th>\n",
       "      <th>director</th>\n",
       "      <th>cast</th>\n",
       "      <th>country</th>\n",
       "      <th>date_added</th>\n",
       "      <th>release_year</th>\n",
       "      <th>rating</th>\n",
       "      <th>duration</th>\n",
       "      <th>listed_in</th>\n",
       "      <th>description</th>\n",
       "      <th>year_added</th>\n",
       "      <th>month_added</th>\n",
       "      <th>season_count</th>\n",
       "    </tr>\n",
       "  </thead>\n",
       "  <tbody>\n",
       "    <tr>\n",
       "      <th>0</th>\n",
       "      <td>0</td>\n",
       "      <td>s1</td>\n",
       "      <td>Movie</td>\n",
       "      <td>Dick Johnson Is Dead</td>\n",
       "      <td>Kirsten Johnson</td>\n",
       "      <td>NaN</td>\n",
       "      <td>United States</td>\n",
       "      <td>2021-09-25</td>\n",
       "      <td>2020</td>\n",
       "      <td>PG-13</td>\n",
       "      <td>90.0</td>\n",
       "      <td>Documentaries</td>\n",
       "      <td>As her father nears the end of his life, filmm...</td>\n",
       "      <td>2021</td>\n",
       "      <td>9.0</td>\n",
       "      <td>0</td>\n",
       "    </tr>\n",
       "    <tr>\n",
       "      <th>1</th>\n",
       "      <td>6</td>\n",
       "      <td>s7</td>\n",
       "      <td>Movie</td>\n",
       "      <td>My Little Pony: A New Generation</td>\n",
       "      <td>Robert Cullen, José Luis Ucha</td>\n",
       "      <td>Vanessa Hudgens, Kimiko Glenn, James Marsden, ...</td>\n",
       "      <td>NaN</td>\n",
       "      <td>2021-09-24</td>\n",
       "      <td>2021</td>\n",
       "      <td>PG</td>\n",
       "      <td>91.0</td>\n",
       "      <td>Children &amp; Family Movies</td>\n",
       "      <td>Equestria's divided. But a bright-eyed hero be...</td>\n",
       "      <td>2021</td>\n",
       "      <td>9.0</td>\n",
       "      <td>0</td>\n",
       "    </tr>\n",
       "    <tr>\n",
       "      <th>2</th>\n",
       "      <td>7</td>\n",
       "      <td>s8</td>\n",
       "      <td>Movie</td>\n",
       "      <td>Sankofa</td>\n",
       "      <td>Haile Gerima</td>\n",
       "      <td>Kofi Ghanaba, Oyafunmike Ogunlano, Alexandra D...</td>\n",
       "      <td>United States, Ghana, Burkina Faso, United Kin...</td>\n",
       "      <td>2021-09-24</td>\n",
       "      <td>1993</td>\n",
       "      <td>TV-MA</td>\n",
       "      <td>125.0</td>\n",
       "      <td>Dramas, Independent Movies, International Movies</td>\n",
       "      <td>On a photo shoot in Ghana, an American model s...</td>\n",
       "      <td>2021</td>\n",
       "      <td>9.0</td>\n",
       "      <td>0</td>\n",
       "    </tr>\n",
       "    <tr>\n",
       "      <th>3</th>\n",
       "      <td>9</td>\n",
       "      <td>s10</td>\n",
       "      <td>Movie</td>\n",
       "      <td>The Starling</td>\n",
       "      <td>Theodore Melfi</td>\n",
       "      <td>Melissa McCarthy, Chris O'Dowd, Kevin Kline, T...</td>\n",
       "      <td>United States</td>\n",
       "      <td>2021-09-24</td>\n",
       "      <td>2021</td>\n",
       "      <td>PG-13</td>\n",
       "      <td>104.0</td>\n",
       "      <td>Comedies, Dramas</td>\n",
       "      <td>A woman adjusting to life after a loss contend...</td>\n",
       "      <td>2021</td>\n",
       "      <td>9.0</td>\n",
       "      <td>0</td>\n",
       "    </tr>\n",
       "    <tr>\n",
       "      <th>4</th>\n",
       "      <td>12</td>\n",
       "      <td>s13</td>\n",
       "      <td>Movie</td>\n",
       "      <td>Je Suis Karl</td>\n",
       "      <td>Christian Schwochow</td>\n",
       "      <td>Luna Wedler, Jannis Niewöhner, Milan Peschel, ...</td>\n",
       "      <td>Germany, Czech Republic</td>\n",
       "      <td>2021-09-23</td>\n",
       "      <td>2021</td>\n",
       "      <td>TV-MA</td>\n",
       "      <td>127.0</td>\n",
       "      <td>Dramas, International Movies</td>\n",
       "      <td>After most of her family is murdered in a terr...</td>\n",
       "      <td>2021</td>\n",
       "      <td>9.0</td>\n",
       "      <td>0</td>\n",
       "    </tr>\n",
       "  </tbody>\n",
       "</table>\n",
       "</div>"
      ],
      "text/plain": [
       "   Unnamed: 0 show_id   type                             title  \\\n",
       "0           0      s1  Movie              Dick Johnson Is Dead   \n",
       "1           6      s7  Movie  My Little Pony: A New Generation   \n",
       "2           7      s8  Movie                           Sankofa   \n",
       "3           9     s10  Movie                      The Starling   \n",
       "4          12     s13  Movie                      Je Suis Karl   \n",
       "\n",
       "                        director  \\\n",
       "0                Kirsten Johnson   \n",
       "1  Robert Cullen, José Luis Ucha   \n",
       "2                   Haile Gerima   \n",
       "3                 Theodore Melfi   \n",
       "4            Christian Schwochow   \n",
       "\n",
       "                                                cast  \\\n",
       "0                                                NaN   \n",
       "1  Vanessa Hudgens, Kimiko Glenn, James Marsden, ...   \n",
       "2  Kofi Ghanaba, Oyafunmike Ogunlano, Alexandra D...   \n",
       "3  Melissa McCarthy, Chris O'Dowd, Kevin Kline, T...   \n",
       "4  Luna Wedler, Jannis Niewöhner, Milan Peschel, ...   \n",
       "\n",
       "                                             country  date_added  \\\n",
       "0                                      United States  2021-09-25   \n",
       "1                                                NaN  2021-09-24   \n",
       "2  United States, Ghana, Burkina Faso, United Kin...  2021-09-24   \n",
       "3                                      United States  2021-09-24   \n",
       "4                            Germany, Czech Republic  2021-09-23   \n",
       "\n",
       "   release_year rating  duration  \\\n",
       "0          2020  PG-13      90.0   \n",
       "1          2021     PG      91.0   \n",
       "2          1993  TV-MA     125.0   \n",
       "3          2021  PG-13     104.0   \n",
       "4          2021  TV-MA     127.0   \n",
       "\n",
       "                                          listed_in  \\\n",
       "0                                     Documentaries   \n",
       "1                          Children & Family Movies   \n",
       "2  Dramas, Independent Movies, International Movies   \n",
       "3                                  Comedies, Dramas   \n",
       "4                      Dramas, International Movies   \n",
       "\n",
       "                                         description  year_added  month_added  \\\n",
       "0  As her father nears the end of his life, filmm...        2021          9.0   \n",
       "1  Equestria's divided. But a bright-eyed hero be...        2021          9.0   \n",
       "2  On a photo shoot in Ghana, an American model s...        2021          9.0   \n",
       "3  A woman adjusting to life after a loss contend...        2021          9.0   \n",
       "4  After most of her family is murdered in a terr...        2021          9.0   \n",
       "\n",
       "   season_count  \n",
       "0             0  \n",
       "1             0  \n",
       "2             0  \n",
       "3             0  \n",
       "4             0  "
      ]
     },
     "execution_count": 9,
     "metadata": {},
     "output_type": "execute_result"
    }
   ],
   "source": [
    "data = pd.read_csv(\"movies_on_netflix.csv\",sep=',')\n",
    "data.head()"
   ]
  },
  {
   "cell_type": "code",
   "execution_count": 10,
   "id": "a73a9c40",
   "metadata": {},
   "outputs": [
    {
     "data": {
      "text/plain": [
       "(6131, 16)"
      ]
     },
     "execution_count": 10,
     "metadata": {},
     "output_type": "execute_result"
    }
   ],
   "source": [
    "##Analisis de cantidad de registros y columnas que posee la tabla\n",
    "data.shape"
   ]
  },
  {
   "cell_type": "code",
   "execution_count": 11,
   "id": "568f14cc",
   "metadata": {},
   "outputs": [
    {
     "data": {
      "text/plain": [
       "Dramas, International Movies                        362\n",
       "Documentaries                                       359\n",
       "Stand-Up Comedy                                     334\n",
       "Comedies, Dramas, International Movies              274\n",
       "Dramas, Independent Movies, International Movies    252\n",
       "                                                   ... \n",
       "Sci-Fi & Fantasy                                      1\n",
       "Sports Movies                                         1\n",
       "Children & Family Movies, Comedies, Cult Movies       1\n",
       "Cult Movies, Dramas, Music & Musicals                 1\n",
       "Cult Movies, Dramas, Thrillers                        1\n",
       "Name: listed_in, Length: 278, dtype: int64"
      ]
     },
     "execution_count": 11,
     "metadata": {},
     "output_type": "execute_result"
    }
   ],
   "source": [
    "##Cantidad de peliculas por genero que posee la tabla\n",
    "data.listed_in.value_counts()"
   ]
  },
  {
   "cell_type": "code",
   "execution_count": 12,
   "id": "164eb162",
   "metadata": {},
   "outputs": [
    {
     "data": {
      "text/plain": [
       "Rajiv Chilaka                 19\n",
       "Raúl Campos, Jan Suter        18\n",
       "Suhas Kadav                   16\n",
       "Marcus Raboy                  15\n",
       "Jay Karas                     14\n",
       "                              ..\n",
       "Dennis Rovira van Boekholt     1\n",
       "Naoto Amazutsumi               1\n",
       "Jenny Gage                     1\n",
       "Kaila York                     1\n",
       "Mozez Singh                    1\n",
       "Name: director, Length: 4354, dtype: int64"
      ]
     },
     "execution_count": 12,
     "metadata": {},
     "output_type": "execute_result"
    }
   ],
   "source": [
    "##cantidad de películas dirigidas por director.\n",
    "data.director.value_counts()"
   ]
  },
  {
   "cell_type": "code",
   "execution_count": 13,
   "id": "6f1da8da",
   "metadata": {},
   "outputs": [
    {
     "data": {
      "text/plain": [
       "count    6131.000000\n",
       "mean     2013.121514\n",
       "std         9.678169\n",
       "min      1942.000000\n",
       "25%      2012.000000\n",
       "50%      2016.000000\n",
       "75%      2018.000000\n",
       "max      2021.000000\n",
       "Name: release_year, dtype: float64"
      ]
     },
     "execution_count": 13,
     "metadata": {},
     "output_type": "execute_result"
    }
   ],
   "source": [
    "##Análisis de la duración de pelícual, mostrando anño de la mas antigua, mas actual y otros datos de interés. \n",
    "data.release_year.describe()"
   ]
  },
  {
   "cell_type": "code",
   "execution_count": 14,
   "id": "d441e41a",
   "metadata": {},
   "outputs": [
    {
     "data": {
      "text/plain": [
       "Unnamed: 0        int64\n",
       "show_id          object\n",
       "type             object\n",
       "title            object\n",
       "director         object\n",
       "cast             object\n",
       "country          object\n",
       "date_added       object\n",
       "release_year      int64\n",
       "rating           object\n",
       "duration        float64\n",
       "listed_in        object\n",
       "description      object\n",
       "year_added        int64\n",
       "month_added     float64\n",
       "season_count      int64\n",
       "dtype: object"
      ]
     },
     "execution_count": 14,
     "metadata": {},
     "output_type": "execute_result"
    }
   ],
   "source": [
    "##Análisis de los tipos de datos de cada columna\n",
    "data.dtypes"
   ]
  },
  {
   "cell_type": "code",
   "execution_count": 15,
   "id": "e928e119",
   "metadata": {},
   "outputs": [
    {
     "data": {
      "text/plain": [
       "count    6128.000000\n",
       "mean       99.577187\n",
       "std        28.290593\n",
       "min         3.000000\n",
       "25%        87.000000\n",
       "50%        98.000000\n",
       "75%       114.000000\n",
       "max       312.000000\n",
       "Name: duration, dtype: float64"
      ]
     },
     "execution_count": 15,
     "metadata": {},
     "output_type": "execute_result"
    }
   ],
   "source": [
    "##Como dato de interés media de la duración de la película, mostrando película de mayor duración y menor duración.\n",
    "data.duration.describe()"
   ]
  },
  {
   "cell_type": "code",
   "execution_count": 16,
   "id": "0c7b7405",
   "metadata": {},
   "outputs": [
    {
     "data": {
      "text/plain": [
       "2019    1424\n",
       "2020    1284\n",
       "2018    1237\n",
       "2021     993\n",
       "2017     839\n",
       "2016     253\n",
       "2015      56\n",
       "2014      19\n",
       "2011      13\n",
       "2013       6\n",
       "2012       3\n",
       "2009       2\n",
       "2008       1\n",
       "2010       1\n",
       "Name: year_added, dtype: int64"
      ]
     },
     "execution_count": 16,
     "metadata": {},
     "output_type": "execute_result"
    }
   ],
   "source": [
    "##Analisis de momentos donde netflix agregó más películas\n",
    "data.year_added.value_counts()"
   ]
  },
  {
   "cell_type": "code",
   "execution_count": null,
   "id": "40ebc239",
   "metadata": {},
   "outputs": [],
   "source": []
  }
 ],
 "metadata": {
  "kernelspec": {
   "display_name": "Python 3 (ipykernel)",
   "language": "python",
   "name": "python3"
  },
  "language_info": {
   "codemirror_mode": {
    "name": "ipython",
    "version": 3
   },
   "file_extension": ".py",
   "mimetype": "text/x-python",
   "name": "python",
   "nbconvert_exporter": "python",
   "pygments_lexer": "ipython3",
   "version": "3.9.12"
  }
 },
 "nbformat": 4,
 "nbformat_minor": 5
}
