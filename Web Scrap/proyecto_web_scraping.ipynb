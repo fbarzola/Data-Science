{
 "cells": [
  {
   "cell_type": "code",
   "execution_count": 1,
   "id": "e06aab99",
   "metadata": {},
   "outputs": [
    {
     "ename": "ModuleNotFoundError",
     "evalue": "No module named 'PyInstaller'",
     "output_type": "error",
     "traceback": [
      "\u001b[1;31m---------------------------------------------------------------------------\u001b[0m",
      "\u001b[1;31mModuleNotFoundError\u001b[0m                       Traceback (most recent call last)",
      "Input \u001b[1;32mIn [1]\u001b[0m, in \u001b[0;36m<cell line: 3>\u001b[1;34m()\u001b[0m\n\u001b[0;32m      1\u001b[0m \u001b[38;5;66;03m# -*- mode: python ; coding: utf-8 -*-\u001b[39;00m\n\u001b[1;32m----> 3\u001b[0m \u001b[38;5;28;01mfrom\u001b[39;00m \u001b[38;5;21;01mPyInstaller\u001b[39;00m \u001b[38;5;28;01mimport\u001b[39;00m Analysis\n\u001b[0;32m      6\u001b[0m block_cipher \u001b[38;5;241m=\u001b[39m \u001b[38;5;28;01mNone\u001b[39;00m\n\u001b[0;32m      8\u001b[0m added_files \u001b[38;5;241m=\u001b[39m [\n\u001b[0;32m      9\u001b[0m     (\u001b[38;5;124m'\u001b[39m\u001b[38;5;124mproductos_ordenados1.csv\u001b[39m\u001b[38;5;124m'\u001b[39m, \u001b[38;5;124m'\u001b[39m\u001b[38;5;124m.\u001b[39m\u001b[38;5;124m'\u001b[39m),\n\u001b[0;32m     10\u001b[0m     (\u001b[38;5;124m'\u001b[39m\u001b[38;5;124mproductos_ordenados2.csv\u001b[39m\u001b[38;5;124m'\u001b[39m, \u001b[38;5;124m'\u001b[39m\u001b[38;5;124m.\u001b[39m\u001b[38;5;124m'\u001b[39m),\n\u001b[1;32m   (...)\u001b[0m\n\u001b[0;32m     13\u001b[0m     (\u001b[38;5;124m'\u001b[39m\u001b[38;5;124mproductos_ordenados5.csv\u001b[39m\u001b[38;5;124m'\u001b[39m, \u001b[38;5;124m'\u001b[39m\u001b[38;5;124m.\u001b[39m\u001b[38;5;124m'\u001b[39m),\n\u001b[0;32m     14\u001b[0m ]\n",
      "\u001b[1;31mModuleNotFoundError\u001b[0m: No module named 'PyInstaller'"
     ]
    }
   ],
   "source": [
    "# -*- mode: python ; coding: utf-8 -*-\n",
    "\n",
    "\n",
    "\n",
    "block_cipher = None\n",
    "\n",
    "added_files = [\n",
    "    ('productos_ordenados1.csv', '.'),\n",
    "    ('productos_ordenados2.csv', '.'),\n",
    "    ('productos_ordenados3.csv', '.'),\n",
    "    ('productos_ordenados4.csv', '.'),\n",
    "    ('productos_ordenados5.csv', '.'),\n",
    "]\n",
    "\n",
    "a = Analysis(['proyecto_web_scraping.py'],\n",
    "             pathex=['C:\\\\Users\\\\Fernando Barzola'],\n",
    "             binaries=[],\n",
    "             datas=added_files,\n",
    "             hiddenimports=['', '', ''],\n",
    "             hookspath=[],\n",
    "             runtime_hooks=[],\n",
    "             excludes=[],\n",
    "             win_no_prefer_redirects=False,\n",
    "             win_private_assemblies=False,\n",
    "             cipher=block_cipher,\n",
    "             noarchive=False)\n",
    "\n",
    "pyz = PYZ(a.pure, a.zipped_data,\n",
    "          cipher=block_cipher)\n",
    "exe = EXE(pyz,\n",
    "          a.scripts,\n",
    "          [],\n",
    "          exclude_binaries=True,\n",
    "          debug=False,\n",
    "          strip=False,\n",
    "          upx=True,\n",
    "          console=True,\n",
    "          disable_windowed_traceback=False,\n",
    "          target_arch=None,\n",
    "          codesign_identity=None,\n",
    "          entitlements_file=None)\n",
    "\n",
    "coll = COLLECT(exe,\n",
    "               a.binaries,\n",
    "               a.zipfiles,\n",
    "               a.datas,\n",
    "               strip=False,\n",
    "               upx=True,\n",
    "               upx_exclude=[],\n",
    "               name='productos_ordenados5'\n",
    "               )\n"
   ]
  }
 ],
 "metadata": {
  "kernelspec": {
   "display_name": "Python 3 (ipykernel)",
   "language": "python",
   "name": "python3"
  },
  "language_info": {
   "codemirror_mode": {
    "name": "ipython",
    "version": 3
   },
   "file_extension": ".py",
   "mimetype": "text/x-python",
   "name": "python",
   "nbconvert_exporter": "python",
   "pygments_lexer": "ipython3",
   "version": "3.9.12"
  }
 },
 "nbformat": 4,
 "nbformat_minor": 5
}
